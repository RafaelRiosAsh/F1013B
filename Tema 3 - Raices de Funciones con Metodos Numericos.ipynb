{
 "cells": [
  {
   "cell_type": "markdown",
   "metadata": {},
   "source": [
    "# Métodos numéricos para encontrar raíces de funciones\n",
    "\n",
    "Clase: F1013B Modelación Computacional de Sistemas Eléctricos\n",
    "\n",
    "Autor: Edoardo Bucheli\n",
    "\n",
    "Profesor de Cátedra, Tec de Monterrey Campus Santa Fe"
   ]
  },
  {
   "cell_type": "markdown",
   "metadata": {},
   "source": [
    "Empecemos por importar las librerías necesarias"
   ]
  },
  {
   "cell_type": "code",
   "execution_count": 1,
   "metadata": {},
   "outputs": [],
   "source": [
    "import numpy as np\n",
    "import matplotlib.pyplot as plt\n",
    "plt.style.use('ggplot')"
   ]
  },
  {
   "cell_type": "markdown",
   "metadata": {},
   "source": [
    "Para revisar nuestros resultados, importemos las funciones `bisect` y `newton` de scipy"
   ]
  },
  {
   "cell_type": "code",
   "execution_count": 2,
   "metadata": {},
   "outputs": [],
   "source": [
    "from scipy.optimize import bisect, newton"
   ]
  },
  {
   "cell_type": "markdown",
   "metadata": {},
   "source": [
    "Podemos definir la función `f` como una función de Python, cuyo nombre podemos pasar como un argumento.\n",
    "\n",
    "En este caso lo hacemos para la función $f(x) = x \\cos{x}+1$"
   ]
  },
  {
   "cell_type": "code",
   "execution_count": 3,
   "metadata": {},
   "outputs": [],
   "source": [
    "def f(x):\n",
    "    return x*np.cos(x)+1"
   ]
  },
  {
   "cell_type": "code",
   "execution_count": 6,
   "metadata": {
    "scrolled": true
   },
   "outputs": [
    {
     "data": {
      "image/png": "[encoded data removed]",
      "text/plain": [
       "<Figure size 864x288 with 1 Axes>"
      ]
     },
     "metadata": {
      "needs_background": "light"
     },
     "output_type": "display_data"
    }
   ],
   "source": [
    "x = np.linspace(-2,5,50)\n",
    "\n",
    "fig = plt.figure(figsize = (12,4))\n",
    "fig = plt.plot(x,f(x))\n",
    "title = plt.title('Gráfico de f(x) en el intervalo de [-2,5]')"
   ]
  },
  {
   "cell_type": "markdown",
   "metadata": {},
   "source": [
    "### Método de Bisección"
   ]
  },
  {
   "cell_type": "markdown",
   "metadata": {},
   "source": [
    "Ahora debes implementar la función `Bisection_Method()` que toma tres argumentos de entrada,\n",
    "\n",
    "1. `f`: Función de python que representa la función $f$ para la cual queremos encontrar las raíces.\n",
    "1. `a`: Punto inicial del intervalo para el método de bisección\n",
    "1. `b`: Punto final del intervalo para el método de bisección\n",
    "\n",
    "Recuerda que el algorítmo de Bisección es el siguiente:\n",
    "\n",
    "1. Encontrar el punto medio `c` entre `a` y `b`\n",
    "1. Evaluar, `f(a)`, `f(b)`, `f(c)`\n",
    "    1. Si los símbolos de `f(a)` y `f(c)` son opuestos, entonces nos quedamos con el intervalo de `a` a `c` (es decir que actualizamos `b=c`)\n",
    "    1. De lo contrario, si los símbolos de `f(b)` y `f(c)` son opuestos, entonces nos quedamos con el intervalo de `c` a `b` (es decir que actualizamos `a=c`\n",
    "1. Repetir hasta que `f(c) = 0` o hasta que la distancia entre `a` y `b` sea menor a un valor de tolerancia definido por ti. Te sugerimos un valor en la parte de recomendaciones.\n",
    "\n",
    "Recomendaciones:\n",
    "\n",
    "* Usa una tolerancia de $2\\times10^{-12}$ (misma que `bisect`) (puedes escribirlo como `2e-12` en python) para comparar tu resultado con el obtenido por `scipy`\n",
    "* Recuerda que necesitas calcular tanto el punto medio $c=\\frac{1}{2}(a+b)$ como la distancia entre los puntos `a` y `b` $L_{ab}=\\frac{1}{2}(b-a)$.\n",
    "* Es recomendable poner un número máximo de iteraciones (repeticiones) para evitar que un programa caiga en un loop infinito o se quede procesando por mucho tiempo.\n",
    "* El número que tienes que regresar al final es el valor de `c` pero debes hacerlo hasta que sepas que la distancia entre `a` y `b` es lo suficientemente chica."
   ]
  },
  {
   "cell_type": "code",
   "execution_count": null,
   "metadata": {},
   "outputs": [],
   "source": [
    "def Bisection_Method(f, a, b):\n",
    "    # Tu código aquí"
   ]
  },
  {
   "cell_type": "code",
   "execution_count": null,
   "metadata": {},
   "outputs": [],
   "source": [
    "a = 1\n",
    "b = 3\n",
    "\n",
    "print('De acuerdo a nuestra immplemetación: ',Bisection_Method(f,a,b))\n",
    "print('De acuerdo a bisect de scipy: ',bisect(f,a,b))"
   ]
  },
  {
   "cell_type": "markdown",
   "metadata": {},
   "source": [
    "Idealmente, si usuas la tolerancia que sugerimos deberías tener exactamente el mismo valor"
   ]
  },
  {
   "cell_type": "markdown",
   "metadata": {},
   "source": [
    "### Método de Newton Raphson"
   ]
  },
  {
   "cell_type": "markdown",
   "metadata": {},
   "source": [
    "Para el método de Newton, necesitamos obtener la derivada de la función o al menos necesitamos obtener el valor de la pendiente para el punto dado. Ya que queremos pasarle cualquier función a nuestra implementación tenemos que definir una estrategia para lograr esto,\n",
    "\n",
    "Lo más sencillo que podemos hacer es generar una aproximaxión de la derivada usando un desfasamiento muy pequeño `delta` de ahí aproximamos la diferencial como,\n",
    "\n",
    "$$\\text{diff}=\\frac{f(x+\\Delta x)-f(x)}{(x+\\Delta x) - x}$$\n",
    "\n",
    "Lo cual podemos simplificar como \n",
    "\n",
    "$$\\text{diff}=\\frac{f(x+\\Delta x)-f(x)}{\\Delta x}$$\n",
    "\n",
    "Te sugiero usar una $\\Delta x$ de $1\\times 10^{-6}$ (`1e-6`)"
   ]
  },
  {
   "cell_type": "markdown",
   "metadata": {},
   "source": [
    "Implementa `differential()` con los argumentos:\n",
    "\n",
    "1. `f`: Función de python que representa la función $f$ para la cual queremos encontrar las raíces.\n",
    "1. `x`: Valor de x para el que quieres encontrar la derivada (pendiente).\n",
    "1. `delta_x`: el cambio en `x`, debe ser muy pequeño para obtener una mejor aproximación.\n",
    "\n",
    "Esta función debe regresar la derivada (pendiente) de la función `f` en el punto `x`"
   ]
  },
  {
   "cell_type": "code",
   "execution_count": null,
   "metadata": {},
   "outputs": [],
   "source": [
    "def differential(f, x, delta_x=1e-12):\n",
    "    # Tu código aquí"
   ]
  },
  {
   "cell_type": "markdown",
   "metadata": {},
   "source": [
    "Ahora, usando la función `differential` que acabamos de definir, puedes implementar `Newton_Method()` que toma los argumentos:\n",
    "\n",
    "1. `f`: Función de python que representa la función $f$ para la cual queremos encontrar las raíces.\n",
    "1. `x_0`: Valor inicial de `x` para el método de Newton.\n",
    "\n",
    "Recuerda que el algoritmo se define de la siguiente forma:\n",
    "\n",
    "1. Evalúa, $x_{n+1} = x_n * \\frac{f(x_n)}{f'(x_n)}$\n",
    "1. Repite hasta que la diferencia entre $x_n$ y $x_{n+1}$ sea menor que una cierta tolerancia. Ten cuidado con este valor, usa su valor absoluto.\n",
    "\n",
    "Recomendaciones:\n",
    "\n",
    "* Al final de cada paso debes actualizar $x_n = x_{n+1}$. Ten cuidado de cuando actualizas este valor, si lo actualizas antes de revisar la diferencia entre $x_n$ y $x_{n+1}$ puede fallar tu código.\n",
    "* No olvides incluir nuestra función `differential()` en tu código."
   ]
  },
  {
   "cell_type": "code",
   "execution_count": null,
   "metadata": {},
   "outputs": [],
   "source": [
    "def Newton_Method(f,x_0):\n",
    "    # To código aquí"
   ]
  },
  {
   "cell_type": "code",
   "execution_count": null,
   "metadata": {},
   "outputs": [],
   "source": [
    "x_0 = 1.5\n",
    "\n",
    "print('De acuerdo a nuestra implementación: ',Newton_Method(f,x_0))\n",
    "print('De acuerdo a newton de scipy: ',newton(f,x_0))"
   ]
  },
  {
   "cell_type": "markdown",
   "metadata": {},
   "source": [
    "### Evaluación\n",
    "Para cada una de las siguientes funciones, encuentra cada una de las raíces usando tu implementación de los métodos de Bisección y Newton-Raphson. \n",
    "\n",
    "1. $f(x)=x-\\cos{x}$, &emsp; $-5\\leq x \\leq 5$\n",
    "1. $f(x)=x\\log_{10}{x}-1.2$,&emsp; $1\\leq x \\leq 5$\n",
    "1. $f(x)=e^{0.3x}-x^2+4$,&emsp; $-5\\leq x \\leq 21$\n",
    "1. $2\\cos{x}-\\frac{\\sqrt{x}}{2}-1$,&emsp; $0\\leq x \\leq 10$\n",
    "\n",
    "Tu entrega deberá incluir las primeras dos iteraciones de cada método para una sola raíz de cada función."
   ]
  },
  {
   "cell_type": "code",
   "execution_count": null,
   "metadata": {},
   "outputs": [],
   "source": [
    "# Tu código aquí"
   ]
  }
 ],
 "metadata": {
  "kernelspec": {
   "display_name": "Python 3",
   "language": "python",
   "name": "python3"
  },
  "language_info": {
   "codemirror_mode": {
    "name": "ipython",
    "version": 3
   },
   "file_extension": ".py",
   "mimetype": "text/x-python",
   "name": "python",
   "nbconvert_exporter": "python",
   "pygments_lexer": "ipython3",
   "version": "3.6.7"
  }
 },
 "nbformat": 4,
 "nbformat_minor": 2
}
