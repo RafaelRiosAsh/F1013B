{
 "cells": [
  {
   "cell_type": "markdown",
   "metadata": {},
   "source": [
    "# Guía para segundo entregable del reto: Diagnóstico de la Malaria\n",
    "\n",
    "Clase: F1013B Modelación Computacional de Sistemas Eléctricos\n",
    "\n",
    "Autor: Edoardo Bucheli\n",
    "\n",
    "Profesor de Cátedra, Tec de Monterrey Campus Santa Fe"
   ]
  },
  {
   "cell_type": "markdown",
   "metadata": {},
   "source": [
    "## Campo debido a una carga puntual\n",
    "\n",
    "Para el primer entregable, creaste un campo electromagnético debido a dos cargas puntuales. Para este entregable, \n",
    "necesitas simular un par de cargas continuas.\n",
    "\n",
    "Anteriormente calculamos el campo eléctrico debido a una carga puntual como,\n",
    "\n",
    "$$\\vec{E} = k_e*\\frac{q}{r^2}\\hat{\\mathbf{r}}$$\n",
    "\n",
    "Donde $k_e$ es la constante de Coulomb, $q$ es la carga asociada a la partícula (carga puntual), $r$ es la distancia de la carga puntual al punto a evaluar y $\\hat{\\mathbf{r}}$ es un vector unitario en la dirección de la carga al punto a evaluar.\n",
    "\n",
    "El cual descompusimos en $E_x$ y $E_y$ utilizando las funciones de coseno y seno respectivamente.\n",
    "\n",
    "## Campo debido a dos o más cargas puntuales\n",
    "\n",
    "Para generar un solo campo basado en dos cargas, lo único que tuvimos que hacer fue agregar las componentes de cada uno de los campos, en forma matemática podemos presentar esto como,\n",
    "\n",
    "$$\\vec{E} = k_e\\sum_{i=1}^{N}\\frac{q_i}{r_i^2}\\hat{\\mathbf{r}}_i$$\n",
    "\n",
    "Donde $N$ es el número de cargas puntuales. Es decir que solo tenemos que sumar los campos que genera cada carga por sí sola para obtener el campo final.\n",
    "\n",
    "## Campo debido a una o más cargas continuas\n",
    "\n",
    "Ahora continuaremos con el cálculo de una carga continua. Pensemos en la ecuación del campo para dos o más cargas puntuales. \n",
    "\n",
    "En el entregable anterior, pusimos dos cargas y obtuvimos el nuevo campo al sumar los campos producidos por cada carga. De esa manera, si queremos calcular una carga continua, podríamos empezar por imaginar lo que pasaría se agregamos más y más cargas a nuestra simulación. \n",
    "\n",
    "Digamos que queremos simular una barra sencilla, entonces podríamos alinear cargas horizontalmente dentro de un rango de -5 a 5 por ejemplo y empezar a agregar más y más cargas. \n",
    "\n",
    "\n",
    "![5cargas](images/5cargas.png)\n",
    "\n",
    "![10cargas](images/10cargas.png)\n",
    "\n",
    "![20cargas](images/20cargas.png)\n",
    "\n",
    "![40cargas](images/40cargas.png)\n",
    "\n",
    "![100cargas](images/100cargas.png)\n",
    "\n",
    "![cargascontinuas](images/cargascontinuas.png)\n",
    "\n",
    "Cada que agregamos más cargas las distancias entre las cargas se vuelve más pequeña y si aplicamos el límite cuando esta distancia tiende a 0 entonces pasamos de una sumatoria a una integral.\n",
    "\n",
    "$$\\vec{E} = k_e \\int\\frac{dq}{r^2}\\mathbf{\\hat{r}}_i$$\n",
    "\n",
    "Donde $dq$ es la carga en un elemento de la distribución de carga.\n",
    "\n",
    "Sin embargo la realidad es que en un dominio discreto como son las computadoras, lo mejor a lo que podemos aspirar son aproximaciones. Estas aproximaciones pueden ser tan cercanas que nos es indistinto. Si quisiéramos resolver esta integral, lo mejor sería recurrir a un método como una Sumatoria de Riemann o la Ley de Simpson.\n",
    "\n",
    "Inclusive, para la última figura no podía dibujar la bara continua así que solo usé mil puntos, lo cual para nuestros ojos ya se ve como una barra. Creo que podríamos decir lo mismo para la \"barra\" de 100 valores.\n",
    "\n",
    "Así que mi recomendación es regresar a la fórmula para cargas puntuales,\n",
    "\n",
    "$$\\vec{E} = k_e\\sum_{i=1}^{N}\\frac{q_i}{r_i^2}\\hat{\\mathbf{r}}_i$$\n",
    "\n",
    "Si mejoramos nuestro programa anterior para que pueda repetirse con facilidad y obtener el campo para cuantas cargas queramos (o nuestras computadoras permitan), entonces habremos encontrado una aproximación. Hacia el final del curso habrá que determinar qué tan buena es esta aproximación.\n",
    "\n",
    "## Implementación\n",
    "\n",
    "En base a lo anterior y con el código que hiciste en entregable anterior puedes adaptar el problema, a continuación te presento algunas sugerencias para que lo puedas lograr,"
   ]
  },
  {
   "cell_type": "code",
   "execution_count": null,
   "metadata": {},
   "outputs": [],
   "source": [
    "# Como siempre, hay que importar las librerías necesarias\n",
    "import numpy as np\n",
    "import matplotlib.pyplot as plt"
   ]
  },
  {
   "cell_type": "markdown",
   "metadata": {},
   "source": [
    "Calcular las componentes del campo es probablemente el problema central en esta simulación así que podríamos implementar una función `getField()` donde se calcule el campo eléctrico para una carga `q` y sus coordenadas `q_loc`,"
   ]
  },
  {
   "cell_type": "code",
   "execution_count": null,
   "metadata": {},
   "outputs": [],
   "source": [
    "def getField(X,Y,q,q_loc,k_e):\n",
    "    \"\"\"\n",
    "    Regresa las componentes [Ex,Ey] de un campo eléctrico.\n",
    "    \n",
    "    Entradas:\n",
    "    X: Matriz con los valores de una cuadrícula de np.meshgrid() para el eje x\n",
    "    Y: Matriz con los valores de una cuadrícula de np.meshgrid() para el eje x\n",
    "    q: El valor de la carga puntual\n",
    "    q_loc: lista de dos valores con las coordenadas \"x\" y \"y\" de la carga puntual\n",
    "    k_e: la constante de Coulomb\n",
    "    \n",
    "    Salidas:\n",
    "    Ex: Los componentes x del campo eléctrico\n",
    "    Ey: Los componentes y del campo eléctrico\n",
    "    \"\"\"\n",
    "    \n",
    "    # Tu código aquí\n",
    "    \n",
    "    return Ex, Ey\n"
   ]
  },
  {
   "cell_type": "markdown",
   "metadata": {},
   "source": [
    "Con la función `getField()` se nos simplificará mucho obtener el campo para cada nueva carga puntual.\n",
    "\n",
    "Ahora, pensemos en cómo vamos a modelar las barras, en lugar de definir una lista manualmente con muchas coordenadas, algo que podríamos hacer es crear un espacio con `np.linspace()` donde especificamos donde empiezan y terminan las coordenadas en `x` o `y` (dependiendo si quieres hacer barras horizontales o verticales) de cada barra. \n",
    "\n",
    "Por ejemplo, si queremos tener una barra horizontal que vaya de -5 a 5 en 10 pasos como podrías hacerlo? "
   ]
  },
  {
   "cell_type": "code",
   "execution_count": null,
   "metadata": {},
   "outputs": [],
   "source": [
    "#qloc_x_range es un arreglo que tiene cada una de las coordenadas en x para N \n",
    "# cargas puntuales que juntas forman una barra horizontal\n",
    "# Escoge los valores que te parezcan apropiados\n",
    "\n",
    "qloc_x_range = #tu código aquí\n",
    "\n",
    "# Si tenemos una barra horizontal, entonces qloc_y para una barra es solo una constante\n",
    "# Escoge el valor que te parezca apropiado\n",
    "\n",
    "qloc_y = # tu código aquí\n",
    "\n",
    "# Podemos también definir un valor para la carga\n",
    "q = 2e-5"
   ]
  },
  {
   "cell_type": "code",
   "execution_count": null,
   "metadata": {},
   "outputs": [],
   "source": [
    "# Necesitas declarar de antemano el campo y lo puedes ir actualizando conforme avanzas\n",
    "# Te recomiendo iniciar Ex y Ey como matrices llenas de 0's (¿qué dimensiones deberían tener?)\n",
    "\n",
    "Ex = # Tu código aquí\n",
    "Ey = # Tu código aquí\n",
    "\n",
    "# Tip: si quieres hacer un ciclo for pero también te gustaría tener una variable\n",
    "# de control (en este caso i) que vaya del 0 a len(qloc_x) puedes usar enumerate\n",
    "\n",
    "for i,qloc_x in enumerate(qloc_x_range):\n",
    "    \n",
    "    # Para correr este paso necesitas asegurarte que la función getField() funcione correctamente\n",
    "    this_Ex, this_Ey = getField(X,Y,q,[qloc_x,qloc_y],k_e)\n",
    "    \n",
    "    # En lugar de calcular todos los campos y sumarlos al final, te recomiendo ir actualizándolos\n",
    "    # mientras el ciclo está corriendo\n",
    "    \n",
    "    # Actualiza los valores de Ex y Ey\n",
    "    Ex = # Tu código aquí\n",
    "    Ey = # Tu código aquí"
   ]
  },
  {
   "cell_type": "markdown",
   "metadata": {},
   "source": [
    "Ahora que tienes el campo resultante puedes crear los vectores unitarios."
   ]
  },
  {
   "cell_type": "code",
   "execution_count": null,
   "metadata": {},
   "outputs": [],
   "source": [
    "# Tu código aquí"
   ]
  },
  {
   "cell_type": "markdown",
   "metadata": {},
   "source": [
    "Y ahora es tiempo de graficar, no olvides agregar algo que dé a entender la forma de la barra,"
   ]
  },
  {
   "cell_type": "code",
   "execution_count": null,
   "metadata": {},
   "outputs": [],
   "source": [
    "# Tu código aquí"
   ]
  },
  {
   "cell_type": "markdown",
   "metadata": {},
   "source": [
    "Muy bien! Si seguiste correctamente los pasos lograste graficar una barra y la aproximación de su campo eléctrico. Ahora puedes agregar una segunda barra con una polaridad distinta. \n",
    "\n",
    "Si quieres hacer que tu código sea eficiente puedes intentar calcular los campos de ambar barras dentro del mismo ciclo for. Esto no e"
   ]
  },
  {
   "cell_type": "code",
   "execution_count": null,
   "metadata": {},
   "outputs": [],
   "source": []
  }
 ],
 "metadata": {
  "kernelspec": {
   "display_name": "Python 3",
   "language": "python",
   "name": "python3"
  },
  "language_info": {
   "codemirror_mode": {
    "name": "ipython",
    "version": 3
   },
   "file_extension": ".py",
   "mimetype": "text/x-python",
   "name": "python",
   "nbconvert_exporter": "python",
   "pygments_lexer": "ipython3",
   "version": "3.6.7"
  }
 },
 "nbformat": 4,
 "nbformat_minor": 2
}
